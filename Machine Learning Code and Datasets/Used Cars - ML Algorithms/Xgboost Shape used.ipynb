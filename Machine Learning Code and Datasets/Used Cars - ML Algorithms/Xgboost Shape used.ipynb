{
 "cells": [
  {
   "cell_type": "code",
   "execution_count": 2,
   "metadata": {
    "_cell_guid": "b1076dfc-b9ad-4769-8c92-a6c4dae69d19",
    "_uuid": "8f2839f25d086af736a60e9eeb907d3b93b6e0e5",
    "execution": {
     "iopub.execute_input": "2025-02-23T08:39:15.930122Z",
     "iopub.status.busy": "2025-02-23T08:39:15.929463Z",
     "iopub.status.idle": "2025-02-23T08:39:15.936081Z",
     "shell.execute_reply": "2025-02-23T08:39:15.934891Z",
     "shell.execute_reply.started": "2025-02-23T08:39:15.930092Z"
    },
    "trusted": true
   },
   "outputs": [],
   "source": [
    "import optuna\n",
    "import numpy as np\n",
    "import pandas as pd\n",
    "from sklearn.model_selection import train_test_split, cross_val_score\n",
    "from sklearn.preprocessing import StandardScaler\n",
    "from sklearn.pipeline import Pipeline\n",
    "from sklearn.compose import ColumnTransformer\n",
    "from sklearn.impute import SimpleImputer\n",
    "from xgboost import XGBRegressor\n",
    "from sklearn.metrics import mean_squared_error, make_scorer"
   ]
  },
  {
   "cell_type": "code",
   "execution_count": 3,
   "metadata": {
    "execution": {
     "iopub.execute_input": "2025-02-23T08:39:15.939839Z",
     "iopub.status.busy": "2025-02-23T08:39:15.939501Z",
     "iopub.status.idle": "2025-02-23T08:39:16.675369Z",
     "shell.execute_reply": "2025-02-23T08:39:16.674584Z",
     "shell.execute_reply.started": "2025-02-23T08:39:15.939807Z"
    },
    "trusted": true
   },
   "outputs": [],
   "source": [
    "train=pd.read_csv('/kaggle/input/fsajhd/df_train_clean.csv')\n",
    "test=pd.read_csv('/kaggle/input/fsajhd/df_test_clean.csv')\n",
    "sub=pd.read_csv('/kaggle/input/fsajhd/sample_submission.csv')"
   ]
  },
  {
   "cell_type": "code",
   "execution_count": 4,
   "metadata": {
    "execution": {
     "iopub.execute_input": "2025-02-23T08:39:16.677345Z",
     "iopub.status.busy": "2025-02-23T08:39:16.677088Z",
     "iopub.status.idle": "2025-02-23T08:39:17.552774Z",
     "shell.execute_reply": "2025-02-23T08:39:17.551801Z",
     "shell.execute_reply.started": "2025-02-23T08:39:16.677324Z"
    },
    "trusted": true
   },
   "outputs": [],
   "source": [
    "tarain=pd.read_csv('/kaggle/input/fsajhd/train.csv')"
   ]
  },
  {
   "cell_type": "code",
   "execution_count": 5,
   "metadata": {
    "execution": {
     "iopub.execute_input": "2025-02-23T08:39:17.554167Z",
     "iopub.status.busy": "2025-02-23T08:39:17.553847Z",
     "iopub.status.idle": "2025-02-23T08:39:17.580065Z",
     "shell.execute_reply": "2025-02-23T08:39:17.579175Z",
     "shell.execute_reply.started": "2025-02-23T08:39:17.554139Z"
    },
    "trusted": true
   },
   "outputs": [
    {
     "data": {
      "text/html": [
       "<div>\n",
       "<style scoped>\n",
       "    .dataframe tbody tr th:only-of-type {\n",
       "        vertical-align: middle;\n",
       "    }\n",
       "\n",
       "    .dataframe tbody tr th {\n",
       "        vertical-align: top;\n",
       "    }\n",
       "\n",
       "    .dataframe thead th {\n",
       "        text-align: right;\n",
       "    }\n",
       "</style>\n",
       "<table border=\"1\" class=\"dataframe\">\n",
       "  <thead>\n",
       "    <tr style=\"text-align: right;\">\n",
       "      <th></th>\n",
       "      <th>id</th>\n",
       "      <th>brand</th>\n",
       "      <th>model</th>\n",
       "      <th>model_year</th>\n",
       "      <th>milage</th>\n",
       "      <th>fuel_type</th>\n",
       "      <th>engine</th>\n",
       "      <th>transmission</th>\n",
       "      <th>ext_col</th>\n",
       "      <th>int_col</th>\n",
       "      <th>accident</th>\n",
       "      <th>clean_title</th>\n",
       "      <th>price</th>\n",
       "    </tr>\n",
       "  </thead>\n",
       "  <tbody>\n",
       "    <tr>\n",
       "      <th>0</th>\n",
       "      <td>0</td>\n",
       "      <td>MINI</td>\n",
       "      <td>Cooper S Base</td>\n",
       "      <td>2007</td>\n",
       "      <td>213000</td>\n",
       "      <td>Gasoline</td>\n",
       "      <td>172.0HP 1.6L 4 Cylinder Engine Gasoline Fuel</td>\n",
       "      <td>A/T</td>\n",
       "      <td>Yellow</td>\n",
       "      <td>Gray</td>\n",
       "      <td>None reported</td>\n",
       "      <td>Yes</td>\n",
       "      <td>4200</td>\n",
       "    </tr>\n",
       "    <tr>\n",
       "      <th>1</th>\n",
       "      <td>1</td>\n",
       "      <td>Lincoln</td>\n",
       "      <td>LS V8</td>\n",
       "      <td>2002</td>\n",
       "      <td>143250</td>\n",
       "      <td>Gasoline</td>\n",
       "      <td>252.0HP 3.9L 8 Cylinder Engine Gasoline Fuel</td>\n",
       "      <td>A/T</td>\n",
       "      <td>Silver</td>\n",
       "      <td>Beige</td>\n",
       "      <td>At least 1 accident or damage reported</td>\n",
       "      <td>Yes</td>\n",
       "      <td>4999</td>\n",
       "    </tr>\n",
       "    <tr>\n",
       "      <th>2</th>\n",
       "      <td>2</td>\n",
       "      <td>Chevrolet</td>\n",
       "      <td>Silverado 2500 LT</td>\n",
       "      <td>2002</td>\n",
       "      <td>136731</td>\n",
       "      <td>E85 Flex Fuel</td>\n",
       "      <td>320.0HP 5.3L 8 Cylinder Engine Flex Fuel Capab...</td>\n",
       "      <td>A/T</td>\n",
       "      <td>Blue</td>\n",
       "      <td>Gray</td>\n",
       "      <td>None reported</td>\n",
       "      <td>Yes</td>\n",
       "      <td>13900</td>\n",
       "    </tr>\n",
       "    <tr>\n",
       "      <th>3</th>\n",
       "      <td>3</td>\n",
       "      <td>Genesis</td>\n",
       "      <td>G90 5.0 Ultimate</td>\n",
       "      <td>2017</td>\n",
       "      <td>19500</td>\n",
       "      <td>Gasoline</td>\n",
       "      <td>420.0HP 5.0L 8 Cylinder Engine Gasoline Fuel</td>\n",
       "      <td>Transmission w/Dual Shift Mode</td>\n",
       "      <td>Black</td>\n",
       "      <td>Black</td>\n",
       "      <td>None reported</td>\n",
       "      <td>Yes</td>\n",
       "      <td>45000</td>\n",
       "    </tr>\n",
       "    <tr>\n",
       "      <th>4</th>\n",
       "      <td>4</td>\n",
       "      <td>Mercedes-Benz</td>\n",
       "      <td>Metris Base</td>\n",
       "      <td>2021</td>\n",
       "      <td>7388</td>\n",
       "      <td>Gasoline</td>\n",
       "      <td>208.0HP 2.0L 4 Cylinder Engine Gasoline Fuel</td>\n",
       "      <td>7-Speed A/T</td>\n",
       "      <td>Black</td>\n",
       "      <td>Beige</td>\n",
       "      <td>None reported</td>\n",
       "      <td>Yes</td>\n",
       "      <td>97500</td>\n",
       "    </tr>\n",
       "  </tbody>\n",
       "</table>\n",
       "</div>"
      ],
      "text/plain": [
       "   id          brand              model  model_year  milage      fuel_type  \\\n",
       "0   0           MINI      Cooper S Base        2007  213000       Gasoline   \n",
       "1   1        Lincoln              LS V8        2002  143250       Gasoline   \n",
       "2   2      Chevrolet  Silverado 2500 LT        2002  136731  E85 Flex Fuel   \n",
       "3   3        Genesis   G90 5.0 Ultimate        2017   19500       Gasoline   \n",
       "4   4  Mercedes-Benz        Metris Base        2021    7388       Gasoline   \n",
       "\n",
       "                                              engine  \\\n",
       "0       172.0HP 1.6L 4 Cylinder Engine Gasoline Fuel   \n",
       "1       252.0HP 3.9L 8 Cylinder Engine Gasoline Fuel   \n",
       "2  320.0HP 5.3L 8 Cylinder Engine Flex Fuel Capab...   \n",
       "3       420.0HP 5.0L 8 Cylinder Engine Gasoline Fuel   \n",
       "4       208.0HP 2.0L 4 Cylinder Engine Gasoline Fuel   \n",
       "\n",
       "                     transmission ext_col int_col  \\\n",
       "0                             A/T  Yellow    Gray   \n",
       "1                             A/T  Silver   Beige   \n",
       "2                             A/T    Blue    Gray   \n",
       "3  Transmission w/Dual Shift Mode   Black   Black   \n",
       "4                     7-Speed A/T   Black   Beige   \n",
       "\n",
       "                                 accident clean_title  price  \n",
       "0                           None reported         Yes   4200  \n",
       "1  At least 1 accident or damage reported         Yes   4999  \n",
       "2                           None reported         Yes  13900  \n",
       "3                           None reported         Yes  45000  \n",
       "4                           None reported         Yes  97500  "
      ]
     },
     "execution_count": 5,
     "metadata": {},
     "output_type": "execute_result"
    }
   ],
   "source": [
    "tarain.head()"
   ]
  },
  {
   "cell_type": "code",
   "execution_count": 6,
   "metadata": {
    "execution": {
     "iopub.execute_input": "2025-02-23T08:39:17.581367Z",
     "iopub.status.busy": "2025-02-23T08:39:17.581049Z",
     "iopub.status.idle": "2025-02-23T08:39:17.592538Z",
     "shell.execute_reply": "2025-02-23T08:39:17.591727Z",
     "shell.execute_reply.started": "2025-02-23T08:39:17.581336Z"
    },
    "trusted": true
   },
   "outputs": [
    {
     "data": {
      "text/html": [
       "<div>\n",
       "<style scoped>\n",
       "    .dataframe tbody tr th:only-of-type {\n",
       "        vertical-align: middle;\n",
       "    }\n",
       "\n",
       "    .dataframe tbody tr th {\n",
       "        vertical-align: top;\n",
       "    }\n",
       "\n",
       "    .dataframe thead th {\n",
       "        text-align: right;\n",
       "    }\n",
       "</style>\n",
       "<table border=\"1\" class=\"dataframe\">\n",
       "  <thead>\n",
       "    <tr style=\"text-align: right;\">\n",
       "      <th></th>\n",
       "      <th>brand</th>\n",
       "      <th>milage</th>\n",
       "      <th>fuel_type</th>\n",
       "      <th>transmission</th>\n",
       "      <th>ext_col</th>\n",
       "      <th>int_col</th>\n",
       "      <th>accident</th>\n",
       "      <th>clean_title</th>\n",
       "      <th>price</th>\n",
       "      <th>Horsepower</th>\n",
       "      <th>Displacement</th>\n",
       "      <th>Cylinder Count</th>\n",
       "      <th>model_age</th>\n",
       "    </tr>\n",
       "  </thead>\n",
       "  <tbody>\n",
       "    <tr>\n",
       "      <th>0</th>\n",
       "      <td>31</td>\n",
       "      <td>213000</td>\n",
       "      <td>2</td>\n",
       "      <td>0</td>\n",
       "      <td>312</td>\n",
       "      <td>71</td>\n",
       "      <td>2</td>\n",
       "      <td>1</td>\n",
       "      <td>4200</td>\n",
       "      <td>172.0</td>\n",
       "      <td>1.6</td>\n",
       "      <td>4.0</td>\n",
       "      <td>18</td>\n",
       "    </tr>\n",
       "    <tr>\n",
       "      <th>1</th>\n",
       "      <td>28</td>\n",
       "      <td>143250</td>\n",
       "      <td>2</td>\n",
       "      <td>0</td>\n",
       "      <td>263</td>\n",
       "      <td>10</td>\n",
       "      <td>0</td>\n",
       "      <td>1</td>\n",
       "      <td>4999</td>\n",
       "      <td>252.0</td>\n",
       "      <td>3.9</td>\n",
       "      <td>8.0</td>\n",
       "      <td>23</td>\n",
       "    </tr>\n",
       "    <tr>\n",
       "      <th>2</th>\n",
       "      <td>9</td>\n",
       "      <td>136731</td>\n",
       "      <td>1</td>\n",
       "      <td>0</td>\n",
       "      <td>38</td>\n",
       "      <td>71</td>\n",
       "      <td>2</td>\n",
       "      <td>1</td>\n",
       "      <td>13900</td>\n",
       "      <td>320.0</td>\n",
       "      <td>5.3</td>\n",
       "      <td>8.0</td>\n",
       "      <td>23</td>\n",
       "    </tr>\n",
       "    <tr>\n",
       "      <th>3</th>\n",
       "      <td>16</td>\n",
       "      <td>19500</td>\n",
       "      <td>2</td>\n",
       "      <td>2</td>\n",
       "      <td>29</td>\n",
       "      <td>14</td>\n",
       "      <td>2</td>\n",
       "      <td>1</td>\n",
       "      <td>45000</td>\n",
       "      <td>420.0</td>\n",
       "      <td>5.0</td>\n",
       "      <td>8.0</td>\n",
       "      <td>8</td>\n",
       "    </tr>\n",
       "    <tr>\n",
       "      <th>4</th>\n",
       "      <td>36</td>\n",
       "      <td>7388</td>\n",
       "      <td>2</td>\n",
       "      <td>0</td>\n",
       "      <td>29</td>\n",
       "      <td>10</td>\n",
       "      <td>2</td>\n",
       "      <td>1</td>\n",
       "      <td>97500</td>\n",
       "      <td>208.0</td>\n",
       "      <td>2.0</td>\n",
       "      <td>4.0</td>\n",
       "      <td>4</td>\n",
       "    </tr>\n",
       "  </tbody>\n",
       "</table>\n",
       "</div>"
      ],
      "text/plain": [
       "   brand  milage  fuel_type  transmission  ext_col  int_col  accident  \\\n",
       "0     31  213000          2             0      312       71         2   \n",
       "1     28  143250          2             0      263       10         0   \n",
       "2      9  136731          1             0       38       71         2   \n",
       "3     16   19500          2             2       29       14         2   \n",
       "4     36    7388          2             0       29       10         2   \n",
       "\n",
       "   clean_title  price  Horsepower  Displacement  Cylinder Count  model_age  \n",
       "0            1   4200       172.0           1.6             4.0         18  \n",
       "1            1   4999       252.0           3.9             8.0         23  \n",
       "2            1  13900       320.0           5.3             8.0         23  \n",
       "3            1  45000       420.0           5.0             8.0          8  \n",
       "4            1  97500       208.0           2.0             4.0          4  "
      ]
     },
     "execution_count": 6,
     "metadata": {},
     "output_type": "execute_result"
    }
   ],
   "source": [
    "train.head(5)"
   ]
  },
  {
   "cell_type": "code",
   "execution_count": 7,
   "metadata": {
    "execution": {
     "iopub.execute_input": "2025-02-23T08:39:17.593599Z",
     "iopub.status.busy": "2025-02-23T08:39:17.593273Z",
     "iopub.status.idle": "2025-02-23T08:39:17.621532Z",
     "shell.execute_reply": "2025-02-23T08:39:17.620944Z",
     "shell.execute_reply.started": "2025-02-23T08:39:17.593568Z"
    },
    "trusted": true
   },
   "outputs": [
    {
     "data": {
      "text/html": [
       "<div>\n",
       "<style scoped>\n",
       "    .dataframe tbody tr th:only-of-type {\n",
       "        vertical-align: middle;\n",
       "    }\n",
       "\n",
       "    .dataframe tbody tr th {\n",
       "        vertical-align: top;\n",
       "    }\n",
       "\n",
       "    .dataframe thead th {\n",
       "        text-align: right;\n",
       "    }\n",
       "</style>\n",
       "<table border=\"1\" class=\"dataframe\">\n",
       "  <thead>\n",
       "    <tr style=\"text-align: right;\">\n",
       "      <th></th>\n",
       "      <th>brand</th>\n",
       "      <th>milage</th>\n",
       "      <th>fuel_type</th>\n",
       "      <th>transmission</th>\n",
       "      <th>ext_col</th>\n",
       "      <th>int_col</th>\n",
       "      <th>accident</th>\n",
       "      <th>clean_title</th>\n",
       "      <th>Horsepower</th>\n",
       "      <th>Displacement</th>\n",
       "      <th>Cylinder Count</th>\n",
       "      <th>model_age</th>\n",
       "    </tr>\n",
       "  </thead>\n",
       "  <tbody>\n",
       "    <tr>\n",
       "      <th>34387</th>\n",
       "      <td>11</td>\n",
       "      <td>13750</td>\n",
       "      <td>2</td>\n",
       "      <td>2</td>\n",
       "      <td>304</td>\n",
       "      <td>14</td>\n",
       "      <td>2</td>\n",
       "      <td>1</td>\n",
       "      <td>485.000000</td>\n",
       "      <td>6.400000</td>\n",
       "      <td>8.000000</td>\n",
       "      <td>4</td>\n",
       "    </tr>\n",
       "    <tr>\n",
       "      <th>92002</th>\n",
       "      <td>43</td>\n",
       "      <td>21613</td>\n",
       "      <td>2</td>\n",
       "      <td>0</td>\n",
       "      <td>304</td>\n",
       "      <td>155</td>\n",
       "      <td>2</td>\n",
       "      <td>0</td>\n",
       "      <td>244.553252</td>\n",
       "      <td>2.000000</td>\n",
       "      <td>6.374268</td>\n",
       "      <td>3</td>\n",
       "    </tr>\n",
       "    <tr>\n",
       "      <th>121389</th>\n",
       "      <td>9</td>\n",
       "      <td>25250</td>\n",
       "      <td>2</td>\n",
       "      <td>2</td>\n",
       "      <td>312</td>\n",
       "      <td>118</td>\n",
       "      <td>2</td>\n",
       "      <td>1</td>\n",
       "      <td>490.000000</td>\n",
       "      <td>6.200000</td>\n",
       "      <td>8.000000</td>\n",
       "      <td>4</td>\n",
       "    </tr>\n",
       "    <tr>\n",
       "      <th>102511</th>\n",
       "      <td>52</td>\n",
       "      <td>43000</td>\n",
       "      <td>5</td>\n",
       "      <td>0</td>\n",
       "      <td>304</td>\n",
       "      <td>14</td>\n",
       "      <td>2</td>\n",
       "      <td>1</td>\n",
       "      <td>425.000000</td>\n",
       "      <td>4.526078</td>\n",
       "      <td>6.374268</td>\n",
       "      <td>5</td>\n",
       "    </tr>\n",
       "    <tr>\n",
       "      <th>95804</th>\n",
       "      <td>36</td>\n",
       "      <td>54500</td>\n",
       "      <td>2</td>\n",
       "      <td>0</td>\n",
       "      <td>29</td>\n",
       "      <td>14</td>\n",
       "      <td>2</td>\n",
       "      <td>1</td>\n",
       "      <td>362.000000</td>\n",
       "      <td>3.000000</td>\n",
       "      <td>6.000000</td>\n",
       "      <td>7</td>\n",
       "    </tr>\n",
       "  </tbody>\n",
       "</table>\n",
       "</div>"
      ],
      "text/plain": [
       "        brand  milage  fuel_type  transmission  ext_col  int_col  accident  \\\n",
       "34387      11   13750          2             2      304       14         2   \n",
       "92002      43   21613          2             0      304      155         2   \n",
       "121389      9   25250          2             2      312      118         2   \n",
       "102511     52   43000          5             0      304       14         2   \n",
       "95804      36   54500          2             0       29       14         2   \n",
       "\n",
       "        clean_title  Horsepower  Displacement  Cylinder Count  model_age  \n",
       "34387             1  485.000000      6.400000        8.000000          4  \n",
       "92002             0  244.553252      2.000000        6.374268          3  \n",
       "121389            1  490.000000      6.200000        8.000000          4  \n",
       "102511            1  425.000000      4.526078        6.374268          5  \n",
       "95804             1  362.000000      3.000000        6.000000          7  "
      ]
     },
     "execution_count": 7,
     "metadata": {},
     "output_type": "execute_result"
    }
   ],
   "source": [
    "test.sample(5)"
   ]
  },
  {
   "cell_type": "code",
   "execution_count": 8,
   "metadata": {
    "execution": {
     "iopub.execute_input": "2025-02-23T08:39:17.622457Z",
     "iopub.status.busy": "2025-02-23T08:39:17.622261Z",
     "iopub.status.idle": "2025-02-23T08:39:17.645665Z",
     "shell.execute_reply": "2025-02-23T08:39:17.644946Z",
     "shell.execute_reply.started": "2025-02-23T08:39:17.622441Z"
    },
    "trusted": true
   },
   "outputs": [
    {
     "name": "stdout",
     "output_type": "stream",
     "text": [
      "<class 'pandas.core.frame.DataFrame'>\n",
      "RangeIndex: 188533 entries, 0 to 188532\n",
      "Data columns (total 13 columns):\n",
      " #   Column          Non-Null Count   Dtype  \n",
      "---  ------          --------------   -----  \n",
      " 0   brand           188533 non-null  int64  \n",
      " 1   milage          188533 non-null  int64  \n",
      " 2   fuel_type       188533 non-null  int64  \n",
      " 3   transmission    188533 non-null  int64  \n",
      " 4   ext_col         188533 non-null  int64  \n",
      " 5   int_col         188533 non-null  int64  \n",
      " 6   accident        188533 non-null  int64  \n",
      " 7   clean_title     188533 non-null  int64  \n",
      " 8   price           188533 non-null  int64  \n",
      " 9   Horsepower      188533 non-null  float64\n",
      " 10  Displacement    188533 non-null  float64\n",
      " 11  Cylinder Count  188533 non-null  float64\n",
      " 12  model_age       188533 non-null  int64  \n",
      "dtypes: float64(3), int64(10)\n",
      "memory usage: 18.7 MB\n"
     ]
    }
   ],
   "source": [
    "train.info()"
   ]
  },
  {
   "cell_type": "markdown",
   "metadata": {},
   "source": [
    "## XgBoost"
   ]
  },
  {
   "cell_type": "code",
   "execution_count": 11,
   "metadata": {
    "execution": {
     "iopub.execute_input": "2025-02-23T08:39:17.669532Z",
     "iopub.status.busy": "2025-02-23T08:39:17.669247Z",
     "iopub.status.idle": "2025-02-23T08:39:28.271937Z",
     "shell.execute_reply": "2025-02-23T08:39:28.271017Z",
     "shell.execute_reply.started": "2025-02-23T08:39:17.669505Z"
    },
    "trusted": true
   },
   "outputs": [
    {
     "name": "stdout",
     "output_type": "stream",
     "text": [
      "Dataset Shape: X=(188533, 12), y=(188533,)\n",
      "\n",
      "Training Fold 1/5...\n",
      "Fold 1 Train Shape: (150826, 12), Validation Shape: (37707, 12)\n"
     ]
    },
    {
     "name": "stderr",
     "output_type": "stream",
     "text": [
      "[08:39:23] WARNING: /workspace/src/common/error_msg.cc:27: The tree method `gpu_hist` is deprecated since 2.0.0. To use GPU training, set the `device` parameter to CUDA instead.\n",
      "\n",
      "    E.g. tree_method = \"hist\", device = \"cuda\"\n",
      "\n",
      "[08:39:24] WARNING: /workspace/src/common/error_msg.cc:27: The tree method `gpu_hist` is deprecated since 2.0.0. To use GPU training, set the `device` parameter to CUDA instead.\n",
      "\n",
      "    E.g. tree_method = \"hist\", device = \"cuda\"\n",
      "\n",
      "[08:39:24] WARNING: /workspace/src/common/error_msg.cc:58: Falling back to prediction using DMatrix due to mismatched devices. This might lead to higher memory usage and slower performance. XGBoost is running on: cuda:0, while the input data is on: cpu.\n",
      "Potential solutions:\n",
      "- Use a data structure that matches the device ordinal in the booster.\n",
      "- Set the device for booster before call to inplace_predict.\n",
      "\n",
      "This warning will only be shown once.\n",
      "\n",
      "The behavior of DataFrame concatenation with empty or all-NA entries is deprecated. In a future version, this will no longer exclude empty or all-NA columns when determining the result dtypes. To retain the old behavior, exclude the relevant entries before the concat operation.\n"
     ]
    },
    {
     "name": "stdout",
     "output_type": "stream",
     "text": [
      "Fold 1 RMSE: 67968.8574\n",
      "\n",
      "Training Fold 2/5...\n",
      "Fold 2 Train Shape: (150826, 12), Validation Shape: (37707, 12)\n"
     ]
    },
    {
     "name": "stderr",
     "output_type": "stream",
     "text": [
      "[08:39:24] WARNING: /workspace/src/common/error_msg.cc:27: The tree method `gpu_hist` is deprecated since 2.0.0. To use GPU training, set the `device` parameter to CUDA instead.\n",
      "\n",
      "    E.g. tree_method = \"hist\", device = \"cuda\"\n",
      "\n",
      "[08:39:25] WARNING: /workspace/src/common/error_msg.cc:27: The tree method `gpu_hist` is deprecated since 2.0.0. To use GPU training, set the `device` parameter to CUDA instead.\n",
      "\n",
      "    E.g. tree_method = \"hist\", device = \"cuda\"\n",
      "\n",
      "[08:39:25] WARNING: /workspace/src/common/error_msg.cc:27: The tree method `gpu_hist` is deprecated since 2.0.0. To use GPU training, set the `device` parameter to CUDA instead.\n",
      "\n",
      "    E.g. tree_method = \"hist\", device = \"cuda\"\n",
      "\n"
     ]
    },
    {
     "name": "stdout",
     "output_type": "stream",
     "text": [
      "Fold 2 RMSE: 68610.0619\n",
      "\n",
      "Training Fold 3/5...\n",
      "Fold 3 Train Shape: (150826, 12), Validation Shape: (37707, 12)\n"
     ]
    },
    {
     "name": "stderr",
     "output_type": "stream",
     "text": [
      "[08:39:26] WARNING: /workspace/src/common/error_msg.cc:27: The tree method `gpu_hist` is deprecated since 2.0.0. To use GPU training, set the `device` parameter to CUDA instead.\n",
      "\n",
      "    E.g. tree_method = \"hist\", device = \"cuda\"\n",
      "\n",
      "[08:39:26] WARNING: /workspace/src/common/error_msg.cc:27: The tree method `gpu_hist` is deprecated since 2.0.0. To use GPU training, set the `device` parameter to CUDA instead.\n",
      "\n",
      "    E.g. tree_method = \"hist\", device = \"cuda\"\n",
      "\n"
     ]
    },
    {
     "name": "stdout",
     "output_type": "stream",
     "text": [
      "Fold 3 RMSE: 74037.1875\n",
      "\n",
      "Training Fold 4/5...\n",
      "Fold 4 Train Shape: (150827, 12), Validation Shape: (37706, 12)\n"
     ]
    },
    {
     "name": "stderr",
     "output_type": "stream",
     "text": [
      "[08:39:27] WARNING: /workspace/src/common/error_msg.cc:27: The tree method `gpu_hist` is deprecated since 2.0.0. To use GPU training, set the `device` parameter to CUDA instead.\n",
      "\n",
      "    E.g. tree_method = \"hist\", device = \"cuda\"\n",
      "\n",
      "[08:39:27] WARNING: /workspace/src/common/error_msg.cc:27: The tree method `gpu_hist` is deprecated since 2.0.0. To use GPU training, set the `device` parameter to CUDA instead.\n",
      "\n",
      "    E.g. tree_method = \"hist\", device = \"cuda\"\n",
      "\n"
     ]
    },
    {
     "name": "stdout",
     "output_type": "stream",
     "text": [
      "Fold 4 RMSE: 76528.0761\n",
      "\n",
      "Training Fold 5/5...\n",
      "Fold 5 Train Shape: (150827, 12), Validation Shape: (37706, 12)\n"
     ]
    },
    {
     "name": "stderr",
     "output_type": "stream",
     "text": [
      "[08:39:27] WARNING: /workspace/src/common/error_msg.cc:27: The tree method `gpu_hist` is deprecated since 2.0.0. To use GPU training, set the `device` parameter to CUDA instead.\n",
      "\n",
      "    E.g. tree_method = \"hist\", device = \"cuda\"\n",
      "\n"
     ]
    },
    {
     "name": "stdout",
     "output_type": "stream",
     "text": [
      "Fold 5 RMSE: 76533.5417\n",
      "\n",
      "Overall OOF RMSE: 72832.0142\n",
      "OOF predictions saved to 'oof_predictions_xgboost.csv'.\n",
      "Model saved as 'xgboost_model.pkl'.\n"
     ]
    }
   ],
   "source": [
    "import joblib\n",
    "import numpy as np\n",
    "import pandas as pd\n",
    "import shap\n",
    "import matplotlib.pyplot as plt\n",
    "from sklearn.model_selection import KFold\n",
    "from sklearn.pipeline import Pipeline\n",
    "from sklearn.compose import ColumnTransformer\n",
    "from sklearn.preprocessing import StandardScaler\n",
    "from xgboost import XGBRegressor\n",
    "from sklearn.metrics import mean_squared_error\n",
    "\n",
    "# Load dataset\n",
    "X = train.drop(columns=['price'])\n",
    "y = train['price']\n",
    "\n",
    "# Display dataset shape\n",
    "print(f\"Dataset Shape: X={X.shape}, y={y.shape}\")\n",
    "\n",
    "# Define numerical and categorical columns\n",
    "num_cols = ['milage', 'Horsepower', 'Displacement', 'Cylinder Count', 'model_age']\n",
    "cat_cols = ['brand', 'fuel_type', 'transmission', 'ext_col', 'int_col', 'accident', 'clean_title']\n",
    "\n",
    "# Updated hyperparameters from Optuna with GPU support\n",
    "tuned_params = {\n",
    "    'n_estimators': 200,\n",
    "    'learning_rate': 0.026075961680376267,\n",
    "    'max_depth': 7,\n",
    "    'min_child_weight': 8,\n",
    "    'subsample': 0.6403035387419401,\n",
    "    'colsample_bytree': 0.5532517223827789,\n",
    "    'gamma': 0.143179155034863,\n",
    "    'reg_alpha': 2.1450990765269337e-07,\n",
    "    'reg_lambda': 0.05942705889240155,\n",
    "    'tree_method': 'gpu_hist',  # Enable GPU support\n",
    "    'random_state': 42\n",
    "}\n",
    "\n",
    "# Define preprocessing pipeline\n",
    "num_pipeline = Pipeline(steps=[('scaler', StandardScaler())])\n",
    "preprocessor = ColumnTransformer(\n",
    "    transformers=[\n",
    "        ('num_pipeline', num_pipeline, num_cols)\n",
    "    ],\n",
    "    remainder='passthrough'\n",
    ")\n",
    "\n",
    "# Number of folds for cross-validation\n",
    "n_folds = 5\n",
    "kf = KFold(n_splits=n_folds, shuffle=True, random_state=42)\n",
    "\n",
    "oof_preds = np.zeros(len(X))\n",
    "oof_df = pd.DataFrame(columns=['ID', 'Actual', 'OOF_Pred_XGBoost', 'Fold'])\n",
    "\n",
    "for fold, (train_idx, val_idx) in enumerate(kf.split(X, y), start=1):\n",
    "    print(f\"\\nTraining Fold {fold}/{n_folds}...\")\n",
    "    \n",
    "    X_tr, X_val = X.iloc[train_idx], X.iloc[val_idx]\n",
    "    y_tr, y_val = y.iloc[train_idx], y.iloc[val_idx]\n",
    "    \n",
    "    # Display train and validation set shapes\n",
    "    print(f\"Fold {fold} Train Shape: {X_tr.shape}, Validation Shape: {X_val.shape}\")\n",
    "    \n",
    "    # Create pipeline with preprocessor and XGBoost model\n",
    "    pipeline = Pipeline(steps=[\n",
    "        ('preprocessor', preprocessor),\n",
    "        ('model', XGBRegressor(**tuned_params))\n",
    "    ])\n",
    "    \n",
    "    # Train model\n",
    "    pipeline.fit(X_tr, y_tr)\n",
    "    \n",
    "    # Predict on validation set\n",
    "    y_val_pred = pipeline.predict(X_val)\n",
    "    oof_preds[val_idx] = y_val_pred\n",
    "    \n",
    "    # Compute fold RMSE\n",
    "    fold_rmse = mean_squared_error(y_val, y_val_pred, squared=False)\n",
    "    print(f\"Fold {fold} RMSE: {fold_rmse:.4f}\")\n",
    "    \n",
    "    # Store fold results in DataFrame\n",
    "    fold_df = pd.DataFrame({\n",
    "        'ID': X.index[val_idx],\n",
    "        'Actual': y_val.values,\n",
    "        'OOF_Pred_XGBoost': y_val_pred,\n",
    "        'Fold': fold\n",
    "    })\n",
    "    \n",
    "    oof_df = pd.concat([oof_df, fold_df], ignore_index=True)\n",
    "\n",
    "# Compute overall RMSE\n",
    "oof_rmse = mean_squared_error(y, oof_preds, squared=False)\n",
    "print(f\"\\nOverall OOF RMSE: {oof_rmse:.4f}\")\n",
    "\n",
    "# Save OOF predictions\n",
    "oof_df.to_csv('oof_predictions_xgboost.csv', index=False)\n",
    "print(\"OOF predictions saved to 'oof_predictions_xgboost.csv'.\")\n",
    "\n",
    "# Save trained model\n",
    "joblib.dump(pipeline, 'xgboost_model.pkl')\n",
    "print(\"Model saved as 'xgboost_model.pkl'.\")\n"
   ]
  },
  {
   "cell_type": "code",
   "execution_count": 12,
   "metadata": {
    "execution": {
     "iopub.execute_input": "2025-02-23T08:39:28.274306Z",
     "iopub.status.busy": "2025-02-23T08:39:28.274059Z",
     "iopub.status.idle": "2025-02-23T08:39:45.507348Z",
     "shell.execute_reply": "2025-02-23T08:39:45.506652Z",
     "shell.execute_reply.started": "2025-02-23T08:39:28.274286Z"
    },
    "trusted": true
   },
   "outputs": [
    {
     "name": "stdout",
     "output_type": "stream",
     "text": [
      "\n",
      "Computing SHAP values...\n"
     ]
    },
    {
     "data": {
      "image/png": "[encoded data removed]",
      "text/plain": [
       "<Figure size 800x630 with 2 Axes>"
      ]
     },
     "metadata": {},
     "output_type": "display_data"
    },
    {
     "name": "stdout",
     "output_type": "stream",
     "text": [
      "SHAP summary plot saved as 'shap_summary_plot.png'.\n"
     ]
    },
    {
     "data": {
      "text/plain": [
       "<Figure size 640x480 with 0 Axes>"
      ]
     },
     "metadata": {},
     "output_type": "display_data"
    },
    {
     "data": {
      "image/png": "[encoded data removed]",
      "text/plain": [
       "<Figure size 800x630 with 1 Axes>"
      ]
     },
     "metadata": {},
     "output_type": "display_data"
    },
    {
     "name": "stdout",
     "output_type": "stream",
     "text": [
      "SHAP feature importance plot saved as 'shap_feature_importance.png'.\n"
     ]
    },
    {
     "data": {
      "text/plain": [
       "<Figure size 640x480 with 0 Axes>"
      ]
     },
     "metadata": {},
     "output_type": "display_data"
    }
   ],
   "source": [
    "\n",
    "# ---------------- SHAP Interpretation ----------------\n",
    "\n",
    "print(\"\\nComputing SHAP values...\")\n",
    "\n",
    "# Extract the trained model\n",
    "trained_model = pipeline.named_steps['model']\n",
    "\n",
    "# Use SHAP to interpret model\n",
    "explainer = shap.Explainer(trained_model)\n",
    "shap_values = explainer(X)\n",
    "\n",
    "# SHAP summary plot\n",
    "plt.figure(figsize=(12, 6))\n",
    "shap.summary_plot(shap_values, X)\n",
    "plt.savefig(\"shap_summary_plot.png\")\n",
    "print(\"SHAP summary plot saved as 'shap_summary_plot.png'.\")\n",
    "\n",
    "# SHAP feature importance plot\n",
    "plt.figure(figsize=(12, 6))\n",
    "shap.summary_plot(shap_values, X, plot_type=\"bar\")\n",
    "plt.savefig(\"shap_feature_importance.png\")\n",
    "print(\"SHAP feature importance plot saved as 'shap_feature_importance.png'.\")\n"
   ]
  },
  {
   "cell_type": "code",
   "execution_count": 13,
   "metadata": {
    "execution": {
     "iopub.execute_input": "2025-02-23T08:39:45.508484Z",
     "iopub.status.busy": "2025-02-23T08:39:45.508175Z",
     "iopub.status.idle": "2025-02-23T08:39:45.733567Z",
     "shell.execute_reply": "2025-02-23T08:39:45.732635Z",
     "shell.execute_reply.started": "2025-02-23T08:39:45.508460Z"
    },
    "trusted": true
   },
   "outputs": [
    {
     "name": "stdout",
     "output_type": "stream",
     "text": [
      "Submission file saved as 'lrsubmission.csv'.\n"
     ]
    },
    {
     "data": {
      "text/html": [
       "<div>\n",
       "<style scoped>\n",
       "    .dataframe tbody tr th:only-of-type {\n",
       "        vertical-align: middle;\n",
       "    }\n",
       "\n",
       "    .dataframe tbody tr th {\n",
       "        vertical-align: top;\n",
       "    }\n",
       "\n",
       "    .dataframe thead th {\n",
       "        text-align: right;\n",
       "    }\n",
       "</style>\n",
       "<table border=\"1\" class=\"dataframe\">\n",
       "  <thead>\n",
       "    <tr style=\"text-align: right;\">\n",
       "      <th></th>\n",
       "      <th>id</th>\n",
       "      <th>price</th>\n",
       "    </tr>\n",
       "  </thead>\n",
       "  <tbody>\n",
       "    <tr>\n",
       "      <th>0</th>\n",
       "      <td>188533</td>\n",
       "      <td>17727.068359</td>\n",
       "    </tr>\n",
       "    <tr>\n",
       "      <th>1</th>\n",
       "      <td>188534</td>\n",
       "      <td>77704.109375</td>\n",
       "    </tr>\n",
       "    <tr>\n",
       "      <th>2</th>\n",
       "      <td>188535</td>\n",
       "      <td>51890.683594</td>\n",
       "    </tr>\n",
       "    <tr>\n",
       "      <th>3</th>\n",
       "      <td>188536</td>\n",
       "      <td>31403.695312</td>\n",
       "    </tr>\n",
       "    <tr>\n",
       "      <th>4</th>\n",
       "      <td>188537</td>\n",
       "      <td>31094.761719</td>\n",
       "    </tr>\n",
       "  </tbody>\n",
       "</table>\n",
       "</div>"
      ],
      "text/plain": [
       "       id         price\n",
       "0  188533  17727.068359\n",
       "1  188534  77704.109375\n",
       "2  188535  51890.683594\n",
       "3  188536  31403.695312\n",
       "4  188537  31094.761719"
      ]
     },
     "execution_count": 13,
     "metadata": {},
     "output_type": "execute_result"
    }
   ],
   "source": [
    "final_test_predictions = pipeline.predict(test)\n",
    "\n",
    "# Save submission file\n",
    "sub = pd.read_csv('/kaggle/input/fsajhd/sample_submission.csv')\n",
    "sub['price'] = final_test_predictions\n",
    "sub.to_csv('XgBoost_submission.csv', index=False)\n",
    "print(\"Submission file saved as 'lrsubmission.csv'.\")\n",
    "sub.head()\n"
   ]
  },
  {
   "cell_type": "code",
   "execution_count": null,
   "metadata": {
    "trusted": true
   },
   "outputs": [],
   "source": []
  }
 ],
 "metadata": {
  "kaggle": {
   "accelerator": "gpu",
   "dataSources": [
    {
     "datasetId": 6688676,
     "sourceId": 10779835,
     "sourceType": "datasetVersion"
    }
   ],
   "dockerImageVersionId": 30919,
   "isGpuEnabled": true,
   "isInternetEnabled": false,
   "language": "python",
   "sourceType": "notebook"
  },
  "kernelspec": {
   "display_name": "Python 3",
   "language": "python",
   "name": "python3"
  },
  "language_info": {
   "codemirror_mode": {
    "name": "ipython",
    "version": 3
   },
   "file_extension": ".py",
   "mimetype": "text/x-python",
   "name": "python",
   "nbconvert_exporter": "python",
   "pygments_lexer": "ipython3",
   "version": "3.10.12"
  }
 },
 "nbformat": 4,
 "nbformat_minor": 4
}
